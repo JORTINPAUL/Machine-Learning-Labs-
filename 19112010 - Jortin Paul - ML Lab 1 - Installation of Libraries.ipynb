{
 "cells": [
  {
   "cell_type": "markdown",
   "id": "2795ab0f",
   "metadata": {},
   "source": [
    "# Machine Learning Lab 1 - Installation of Libraries\n",
    "Submitted By <br/>\n",
    "Name: **Jortin Paul** <br/>\n",
    "Register Number: **19112010** <br/>\n",
    "Class: **5 BSc Data Science** <br/>\n",
    "\n",
    "<hr/>\n",
    "\n",
    "## Lab Overview\n",
    "\n",
    "#### Objectives\n",
    "- To Install the Libraries that are required for Machine Learning \n",
    "- To Understand the uses of Installed Libraries\n",
    "- To Understand the working of Installed Libaries\n",
    "\n",
    "#### Problem Definition\n",
    "Install the libraries by following the installation instructions and to understand the purposes and working of the libraries execute small statements with refering the documentation/theoritical background of each libraries respectively. \n",
    "\n",
    "#### Approach\n",
    "To install the libraries use pip instructions at command prompt and to understand the uses and working of the libraries theroritical informations are avilable as open sources in internet\n",
    "\n",
    "#### Sections\n",
    "1. Lab Overview\n",
    "1. Installation Instructions\n",
    "1. Libraries\n",
    "    1. Numpy\n",
    "    1. Pandas\n",
    "    1. Matplotlib\n",
    "    1. Seaborn\n",
    "    1. Scikit-Learn\n",
    "    1. Theano\n",
    "    1. SciPy\n",
    "    1. PyTorch\n",
    "    1. Keras\n",
    "    1. sorflow\n",
    "1. Conclusion\n",
    "\n",
    "#### References\n",
    "1. https://www.geeksforgeeks.org/best-python-libraries-for-machine-learning/\n",
    "1. https://towardsdatascience.com/best-python-libraries-for-machine-learning-and-deep-learning-b0bd40c7e8c\n",
    "1. https://www.upgrad.com/blog/top-python-libraries-for-machine-learning/\n",
    "1. https://mode.com/python-tutorial/libraries/pandas/\n",
    "1. https://www.pythonprogramming.in/pandas-examples/how-to-get-the-first-or-last-few-rows-from-a-series-in-pandas.html\n",
    "1. https://www.edureka.co/blog/python-matplotlib-tutorial/\n",
    "1. https://www.tutorialspoint.com/scikit_learn/scikit_learn_introduction.htm\n",
    "1. https://www.edureka.co/blog/scipy-tutorial/\n",
    "1. https://elitedatascience.com/keras-tutorial-deep-learning-in-python\n",
    "1. https://www.datacamp.com/community/tutorials/tensorflow-tutorial\n",
    "<hr/>"
   ]
  },
  {
   "cell_type": "markdown",
   "id": "f65c656f",
   "metadata": {},
   "source": [
    "## Installation Instructions\n",
    "If any of the libraries cannot be imported (Python says *No module named _____*), then you will have to take **Command Prompt** and then use the **PIP** instruction to install libraries.\n",
    "\n",
    "For instance, ``pip install numpy`` will install the latest version of numpy library"
   ]
  },
  {
   "cell_type": "markdown",
   "id": "c64aa1d9",
   "metadata": {},
   "source": [
    "## Libraries"
   ]
  },
  {
   "cell_type": "markdown",
   "id": "2b426505",
   "metadata": {},
   "source": [
    "### Numpy"
   ]
  },
  {
   "cell_type": "markdown",
   "id": "bd3583ab",
   "metadata": {},
   "source": [
    "#### About the Library\n",
    "NumPy is a well known general-purpose array-processing package. An extensive collection of high complexity mathematical functions make NumPy powerful to process large multi-dimensional arrays and matrices. NumPy is very useful for handling linear algebra, Fourier transforms, and random numbers. Other libraries like TensorFlow uses NumPy at the backend for manipulating tensors.\n",
    "\n",
    "With NumPy, you can define arbitrary data types and easily integrate with most databases. NumPy can also serve as an efficient multi-dimensional container for any generic data that is in any datatype. The key features of NumPy include powerful N-dimensional array object, broadcasting functions, and out-of-box tools to integrate C/C++ and Fortran code."
   ]
  },
  {
   "cell_type": "markdown",
   "id": "6f266c43",
   "metadata": {},
   "source": [
    "#### Installing Numpy"
   ]
  },
  {
   "attachments": {
    "Numpy-2.png": {
     "image/png": "[encoded data removed]"
    }
   },
   "cell_type": "markdown",
   "id": "6017c3a1",
   "metadata": {},
   "source": [
    "![Numpy-2.png](attachment:Numpy-2.png)"
   ]
  },
  {
   "cell_type": "markdown",
   "id": "784f4d7a",
   "metadata": {},
   "source": [
    "#### Importing Numpy"
   ]
  },
  {
   "cell_type": "code",
   "execution_count": 1,
   "id": "c50a8841",
   "metadata": {},
   "outputs": [],
   "source": [
    "import numpy # Importing the Numpy Array"
   ]
  },
  {
   "cell_type": "markdown",
   "id": "609ef62c",
   "metadata": {},
   "source": [
    "#### Basic Statements using Numpy "
   ]
  },
  {
   "cell_type": "code",
   "execution_count": 2,
   "id": "2a413c33",
   "metadata": {
    "scrolled": true
   },
   "outputs": [
    {
     "name": "stdout",
     "output_type": "stream",
     "text": [
      "Array with Rank 1: \n",
      " [1 2 3]\n",
      "\n",
      "Array with Rank 2: \n",
      " [[1 2 3]\n",
      " [4 5 6]]\n",
      "\n",
      "Array created by passing python tuple:\n",
      " [1 3 2]\n"
     ]
    }
   ],
   "source": [
    "# Creating a rank 1 Array\n",
    "arr = numpy.array([1, 2, 3])\n",
    "print(\"Array with Rank 1: \\n\",arr)\n",
    "print(\"\")\n",
    " \n",
    "# Creating a rank 2 Array\n",
    "arr = numpy.array([[1, 2, 3], [4, 5, 6]])\n",
    "print(\"Array with Rank 2: \\n\", arr)\n",
    " \n",
    "# Creating an array from tuple\n",
    "arr = numpy.array((1, 3, 2))\n",
    "print(\"\\nArray created by passing python tuple:\\n\", arr)"
   ]
  },
  {
   "cell_type": "markdown",
   "id": "1540d112",
   "metadata": {},
   "source": [
    "### Pandas"
   ]
  },
  {
   "cell_type": "markdown",
   "id": "5d16b013",
   "metadata": {},
   "source": [
    "#### About the Library\n",
    "Pandas is an open-source library which is built on top of two core Python libraries, matplotlib for data visualization and NumPy for mathematical operations.\n",
    "It is a Python package which offers various data structures and operations for manipulating the numerical data as well as time series. Pandas is mainly used for importing and analyzing data easliy i.e it was developed specifically for data extraction and preparation.\n",
    "\n",
    "Pandas acts as a wrapper over Matplotlib and Numpy libraries, by allowing us to access matplotlib's and NumPy's methods with less code.\n",
    "It also provides many inbuilt methods for grouping, combining and filtering the data."
   ]
  },
  {
   "cell_type": "markdown",
   "id": "4c7fc172",
   "metadata": {},
   "source": [
    "#### Installing Pandas"
   ]
  },
  {
   "attachments": {
    "image-2.png": {
     "image/png": "[encoded data removed]"
    }
   },
   "cell_type": "markdown",
   "id": "57fb9cee",
   "metadata": {},
   "source": [
    "![image-2.png](attachment:image-2.png)"
   ]
  },
  {
   "cell_type": "markdown",
   "id": "395e7cd4",
   "metadata": {},
   "source": [
    "#### Importing Pandas"
   ]
  },
  {
   "cell_type": "code",
   "execution_count": 3,
   "id": "4de36930",
   "metadata": {},
   "outputs": [],
   "source": [
    "import pandas # Importing the pandas"
   ]
  },
  {
   "cell_type": "markdown",
   "id": "ac72c16a",
   "metadata": {},
   "source": [
    "#### Basic Statements using Pandas"
   ]
  },
  {
   "cell_type": "code",
   "execution_count": 4,
   "id": "7b2c48d1",
   "metadata": {},
   "outputs": [
    {
     "name": "stdout",
     "output_type": "stream",
     "text": [
      "-----Head()-----\n",
      "IND        India\n",
      "CAN       Canada\n",
      "AUS    Australia\n",
      "JAP        Japan\n",
      "GER      Germany\n",
      "dtype: object\n",
      "\n",
      "\n",
      "-----Head(2)-----\n",
      "IND        India\n",
      "CAN       Canada\n",
      "AUS    Australia\n",
      "dtype: object\n"
     ]
    }
   ],
   "source": [
    "import pandas as pd\n",
    " \n",
    "values = [\"India\", \"Canada\", \"Australia\",\n",
    "          \"Japan\", \"Germany\", \"France\"]\n",
    " \n",
    "code = [\"IND\", \"CAN\", \"AUS\", \"JAP\", \"GER\", \"FRA\"]\n",
    " \n",
    "ser1 = pd.Series(values, index=code)\n",
    " \n",
    "print(\"-----Head()-----\")\n",
    "print(ser1.head())\n",
    " \n",
    "print(\"\\n\\n-----Head(2)-----\")\n",
    "print(ser1.head(3))"
   ]
  },
  {
   "cell_type": "markdown",
   "id": "5962cd33",
   "metadata": {},
   "source": [
    "### Matplotlib"
   ]
  },
  {
   "cell_type": "markdown",
   "id": "aebb1e96",
   "metadata": {},
   "source": [
    "#### About the Library\n",
    "Matplotlib is a cross-platform, data visualization and graphical plotting library for Python.It is built on NumPy arrays and designed to work with the broader SciPy stack.\n",
    "It allows visual access to huge amounts of data in easily digestible visuals and it consists of several plots like line, bar, scatter, histogram etc. and these plots helps to understand trends, patterns, and to make correlations.\n",
    "\n",
    "Matplotlib offers a viable open source alternative to MATLAB.\n",
    "It provides high-quality images and plots in various formats and provides control to various elements of a figure such as figure colour, figure size etc.\n"
   ]
  },
  {
   "cell_type": "markdown",
   "id": "2f713e04",
   "metadata": {},
   "source": [
    "#### Installing Matplotlib"
   ]
  },
  {
   "attachments": {
    "image-2.png": {
     "image/png": "[encoded data removed]"
    }
   },
   "cell_type": "markdown",
   "id": "6890482a",
   "metadata": {},
   "source": [
    "![image-2.png](attachment:image-2.png)"
   ]
  },
  {
   "cell_type": "markdown",
   "id": "11532abb",
   "metadata": {},
   "source": [
    "#### Importing Matplotlib"
   ]
  },
  {
   "cell_type": "code",
   "execution_count": 5,
   "id": "cca35604",
   "metadata": {},
   "outputs": [],
   "source": [
    "import matplotlib # Importing the matplotlib"
   ]
  },
  {
   "cell_type": "markdown",
   "id": "783e855c",
   "metadata": {},
   "source": [
    "#### Basic Statements using Matplotlib"
   ]
  },
  {
   "cell_type": "code",
   "execution_count": 6,
   "id": "a4d15320",
   "metadata": {},
   "outputs": [
    {
     "data": {
      "image/png": "[encoded data removed]",
      "text/plain": [
       "<Figure size 432x288 with 1 Axes>"
      ]
     },
     "metadata": {
      "needs_background": "light"
     },
     "output_type": "display_data"
    }
   ],
   "source": [
    "from matplotlib import pyplot as plt\n",
    "  \n",
    "#Plotting\n",
    "plt.plot([1,2,3],[4,5,1])\n",
    "  \n",
    "#Showing\n",
    "plt.show()"
   ]
  },
  {
   "cell_type": "markdown",
   "id": "15974935",
   "metadata": {},
   "source": [
    "### Seaborn"
   ]
  },
  {
   "cell_type": "markdown",
   "id": "d65411da",
   "metadata": {},
   "source": [
    "#### About the Library\n",
    "Seaborn is a visualization library for statistical graphics plotting in Python. It provides beautiful default styles and color palettes to make statistical plots more attractive. It is built on the top of matplotlib library and also closely integrated to the data structures from pandas.\n",
    "\n",
    "Seaborn aims to make visualization the central part of exploring and understanding data and it provides high-level commands to create a variety of plot types useful for statistical data exploration and  some statistical model fitting."
   ]
  },
  {
   "cell_type": "markdown",
   "id": "691e71a4",
   "metadata": {},
   "source": [
    "#### Installing Seaborn"
   ]
  },
  {
   "attachments": {
    "image.png": {
     "image/png": "[encoded data removed]"
    }
   },
   "cell_type": "markdown",
   "id": "d5aabf42",
   "metadata": {},
   "source": [
    "![image.png](attachment:image.png)"
   ]
  },
  {
   "cell_type": "markdown",
   "id": "626f37fa",
   "metadata": {},
   "source": [
    "#### Importing Seaborn"
   ]
  },
  {
   "cell_type": "code",
   "execution_count": 7,
   "id": "6910f6c4",
   "metadata": {},
   "outputs": [],
   "source": [
    "import seaborn # Importing the seaborn"
   ]
  },
  {
   "cell_type": "markdown",
   "id": "be3b691c",
   "metadata": {},
   "source": [
    "#### Basic Statements using Seaborn"
   ]
  },
  {
   "cell_type": "code",
   "execution_count": 8,
   "id": "c6665857",
   "metadata": {},
   "outputs": [
    {
     "data": {
      "image/png": "[encoded data removed]",
      "text/plain": [
       "<Figure size 432x288 with 1 Axes>"
      ]
     },
     "metadata": {
      "needs_background": "light"
     },
     "output_type": "display_data"
    }
   ],
   "source": [
    "import seaborn as sns \n",
    "import matplotlib.pyplot as plt \n",
    "  \n",
    "# loading dataset \n",
    "data = sns.load_dataset(\"iris\") \n",
    "  \n",
    "# draw lineplot \n",
    "sns.lineplot(x=\"sepal_length\", y=\"sepal_width\", data=data) \n",
    "  \n",
    "# setting the x limit of the plot\n",
    "plt.xlim(5)\n",
    "  \n",
    "plt.show()"
   ]
  },
  {
   "cell_type": "markdown",
   "id": "8cd54100",
   "metadata": {},
   "source": [
    "### Scikit-Learn"
   ]
  },
  {
   "cell_type": "markdown",
   "id": "39eae11d",
   "metadata": {},
   "source": [
    "#### About the Library\n",
    "Scikit-learn (Sklearn) is the most useful and robust library for machine learning in Python.\n",
    "It is is built upon NumPy,SciPy and matplotlib.\n",
    "\n",
    "Scikit learn provides a selection of efficient tools for machine learning and statistical modeling which includes classification, regression, clustering and dimensionality reduction.\n",
    "Scikit-learn supports most of the supervised and unsupervised learning algorithms as well.\n"
   ]
  },
  {
   "cell_type": "markdown",
   "id": "bc4fd168",
   "metadata": {},
   "source": [
    "#### Installing Scikit-Learn"
   ]
  },
  {
   "attachments": {
    "image.png": {
     "image/png": "[encoded data removed]"
    }
   },
   "cell_type": "markdown",
   "id": "fc817aeb",
   "metadata": {},
   "source": [
    "![image.png](attachment:image.png)"
   ]
  },
  {
   "cell_type": "markdown",
   "id": "6f717fbd",
   "metadata": {},
   "source": [
    "#### Importing Scikit-Learn"
   ]
  },
  {
   "cell_type": "code",
   "execution_count": 9,
   "id": "85a02c7e",
   "metadata": {},
   "outputs": [],
   "source": [
    "import sklearn # Importing the Scikit-Learn"
   ]
  },
  {
   "cell_type": "markdown",
   "id": "1a486050",
   "metadata": {},
   "source": [
    "#### Basic Statements using Scikit-Learn"
   ]
  },
  {
   "cell_type": "code",
   "execution_count": 10,
   "id": "25c957ea",
   "metadata": {},
   "outputs": [
    {
     "name": "stdout",
     "output_type": "stream",
     "text": [
      "DecisionTreeClassifier()\n",
      "              precision    recall  f1-score   support\n",
      "\n",
      "           0       1.00      1.00      1.00        50\n",
      "           1       1.00      1.00      1.00        50\n",
      "           2       1.00      1.00      1.00        50\n",
      "\n",
      "    accuracy                           1.00       150\n",
      "   macro avg       1.00      1.00      1.00       150\n",
      "weighted avg       1.00      1.00      1.00       150\n",
      "\n",
      "[[50  0  0]\n",
      " [ 0 50  0]\n",
      " [ 0  0 50]]\n"
     ]
    }
   ],
   "source": [
    "from sklearn import datasets\n",
    "from sklearn import metrics\n",
    "from sklearn.tree import DecisionTreeClassifier\n",
    " \n",
    "# load the iris datasets\n",
    "dataset = datasets.load_iris()\n",
    " \n",
    "# fit a CART model to the data\n",
    "model = DecisionTreeClassifier()\n",
    "model.fit(dataset.data, dataset.target)\n",
    "print(model)\n",
    " \n",
    "# make predictions\n",
    "expected = dataset.target\n",
    "predicted = model.predict(dataset.data)\n",
    " \n",
    "# summarize the fit of the model\n",
    "print(metrics.classification_report(expected, predicted))\n",
    "print(metrics.confusion_matrix(expected, predicted))"
   ]
  },
  {
   "cell_type": "markdown",
   "id": "7c1c93e1",
   "metadata": {},
   "source": [
    "### Theano"
   ]
  },
  {
   "cell_type": "markdown",
   "id": "a7a05777",
   "metadata": {},
   "source": [
    "#### About the Library\n",
    "Theano is a Python library that allows us to evaluate mathematical operations including multi-dimensional arrays so efficiently. It is mostly used in building Deep Learning Projects.It is a sort of hybrid between numpy and sympy.\n",
    "\n",
    "Theano library knows how to take structures and convert them into very efficient code that uses numpy and some native libraries.\n",
    "It is a very popular library in the field of Deep Learning as it is mainly designed to handle the types of computation required for large neural network algorithms used in Deep Learning.\n",
    "\n",
    "Theano is a very powerful library that has been used in large-scale projects but is also a simple and approachable one for the individuals to use in their projects."
   ]
  },
  {
   "cell_type": "markdown",
   "id": "a2bf4f4e",
   "metadata": {},
   "source": [
    "#### Installing Theano"
   ]
  },
  {
   "attachments": {
    "image.png": {
     "image/png": "[encoded data removed]"
    }
   },
   "cell_type": "markdown",
   "id": "159e41da",
   "metadata": {},
   "source": [
    "![image.png](attachment:image.png)"
   ]
  },
  {
   "attachments": {
    "image.png": {
     "image/png": "[encoded data removed]"
    }
   },
   "cell_type": "markdown",
   "id": "689372ab",
   "metadata": {},
   "source": [
    "![image.png](attachment:image.png)"
   ]
  },
  {
   "cell_type": "markdown",
   "id": "25a5316c",
   "metadata": {},
   "source": [
    "#### Importing Theano"
   ]
  },
  {
   "cell_type": "code",
   "execution_count": 23,
   "id": "19939545",
   "metadata": {},
   "outputs": [],
   "source": [
    "import theano #Importing the Theano"
   ]
  },
  {
   "cell_type": "markdown",
   "id": "59c46115",
   "metadata": {},
   "source": [
    "#### Basic Statements using Theano"
   ]
  },
  {
   "cell_type": "code",
   "execution_count": 12,
   "id": "e7c443da",
   "metadata": {},
   "outputs": [
    {
     "data": {
      "text/plain": [
       "array(12.)"
      ]
     },
     "execution_count": 12,
     "metadata": {},
     "output_type": "execute_result"
    }
   ],
   "source": [
    "# Python program showing\n",
    "# addition of two scalars\n",
    "  \n",
    "# Addition of two scalars \n",
    "import numpy\n",
    "import theano.tensor as T\n",
    "from theano import function\n",
    "  \n",
    "# Declaring two variables\n",
    "x = T.dscalar('x')\n",
    "y = T.dscalar('y')\n",
    "  \n",
    "# Summing up the two numbers\n",
    "z = x + y\n",
    "  \n",
    "# Converting it to a callable object \n",
    "# so that it takes matrix as parameters\n",
    "f = function([x, y], z)\n",
    "f(5, 7)"
   ]
  },
  {
   "cell_type": "markdown",
   "id": "37cde183",
   "metadata": {},
   "source": [
    "### SciPy"
   ]
  },
  {
   "cell_type": "markdown",
   "id": "29be4d29",
   "metadata": {},
   "source": [
    "#### About the Library\n",
    "SciPy is a python library that is useful in solving many mathematical equations and algorithms. It is designed on the top of Numpy library that gives more extension of finding  mathematical formulae.It contains varieties of sub packages which help to solve the most common issue related to Scientific Computation.\n",
    "\n",
    "SciPy is an interactive Python session used as a data-processing library that is made to compete with its rivalries such as MATLAB,R-Lab,etc and has many user-friendly, efficient and easy-to-use functions that helps to solve problems like numerical integration, interpolation, optimization, linear algebra and statistics."
   ]
  },
  {
   "cell_type": "markdown",
   "id": "46f4cb57",
   "metadata": {},
   "source": [
    "#### Installing SciPy"
   ]
  },
  {
   "attachments": {
    "image.png": {
     "image/png": "[encoded data removed]"
    }
   },
   "cell_type": "markdown",
   "id": "f75fcc0d",
   "metadata": {},
   "source": [
    "![image.png](attachment:image.png)"
   ]
  },
  {
   "cell_type": "markdown",
   "id": "bd3e3f67",
   "metadata": {},
   "source": [
    "#### Importing SciPy"
   ]
  },
  {
   "cell_type": "code",
   "execution_count": 13,
   "id": "3823e3ce",
   "metadata": {},
   "outputs": [],
   "source": [
    "import scipy #Importing the Scipy"
   ]
  },
  {
   "cell_type": "markdown",
   "id": "ea6b57d8",
   "metadata": {},
   "source": [
    "#### Basic Statements using Scipy"
   ]
  },
  {
   "cell_type": "code",
   "execution_count": 14,
   "id": "10f5b0fa",
   "metadata": {},
   "outputs": [
    {
     "name": "stdout",
     "output_type": "stream",
     "text": [
      "(3.9086503371292665, 4.3394735994897923e-14)\n"
     ]
    }
   ],
   "source": [
    "from scipy import special\n",
    "from scipy import integrate\n",
    "\n",
    "a= lambda x:special.exp10(x)\n",
    "b = scipy.integrate.quad(a, 0, 1)\n",
    "\n",
    "print(b)"
   ]
  },
  {
   "cell_type": "markdown",
   "id": "8ec62e93",
   "metadata": {},
   "source": [
    "### PyTorch"
   ]
  },
  {
   "cell_type": "markdown",
   "id": "b1b58347",
   "metadata": {},
   "source": [
    "#### About the Library\n",
    "Pytorch is an open-source deep learning framework available with a Python and C++ interface. \n",
    "It resides inside the torch module and the data that has to be processed is input in the form of a tensor.\n",
    "\n",
    "Pytorch is primarily used for applications such as natural language processing and deeplearning\n",
    "\n"
   ]
  },
  {
   "cell_type": "markdown",
   "id": "6593a323",
   "metadata": {},
   "source": [
    "#### Installing PyTorch"
   ]
  },
  {
   "attachments": {
    "image.png": {
     "image/png": "[encoded data removed]"
    }
   },
   "cell_type": "markdown",
   "id": "321acfe3",
   "metadata": {},
   "source": [
    "![image.png](attachment:image.png)"
   ]
  },
  {
   "cell_type": "markdown",
   "id": "6f98cd4e",
   "metadata": {},
   "source": [
    "#### Importing PyTorch"
   ]
  },
  {
   "cell_type": "code",
   "execution_count": 15,
   "id": "32554359",
   "metadata": {},
   "outputs": [],
   "source": [
    "import torch #Importing the PyTorch"
   ]
  },
  {
   "cell_type": "markdown",
   "id": "777929d0",
   "metadata": {},
   "source": [
    "#### Basic Statements using PyTorch"
   ]
  },
  {
   "cell_type": "code",
   "execution_count": 16,
   "id": "8346b280",
   "metadata": {},
   "outputs": [
    {
     "name": "stdout",
     "output_type": "stream",
     "text": [
      "Tensor t1: \n",
      " tensor([1, 2, 3, 4])\n",
      "\n",
      "Tensor t2: \n",
      " tensor([[ 1,  2,  3,  4],\n",
      "        [ 5,  6,  7,  8],\n",
      "        [ 9, 10, 11, 12]])\n",
      "\n",
      "Rank of t1:  1\n",
      "Rank of t2:  2\n",
      "\n",
      "Rank of t1:  torch.Size([4])\n",
      "Rank of t2:  torch.Size([3, 4])\n"
     ]
    }
   ],
   "source": [
    "# importing torch\n",
    "import torch\n",
    " \n",
    "# creating a tensors\n",
    "t1=torch.tensor([1, 2, 3, 4])\n",
    "t2=torch.tensor([[1, 2, 3, 4],\n",
    "                 [5, 6, 7, 8],\n",
    "                 [9, 10, 11, 12]])\n",
    " \n",
    "# printing the tensors:\n",
    "print(\"Tensor t1: \\n\", t1)\n",
    "print(\"\\nTensor t2: \\n\", t2)\n",
    " \n",
    "# rank of tensors\n",
    "print(\"\\nRank of t1: \", len(t1.shape))\n",
    "print(\"Rank of t2: \", len(t2.shape))\n",
    " \n",
    "# shape of tensors\n",
    "print(\"\\nRank of t1: \", t1.shape)\n",
    "print(\"Rank of t2: \", t2.shape)"
   ]
  },
  {
   "cell_type": "markdown",
   "id": "f9880e16",
   "metadata": {},
   "source": [
    "### Keras"
   ]
  },
  {
   "cell_type": "markdown",
   "id": "29fa8474",
   "metadata": {},
   "source": [
    "#### About the Library\n",
    "Keras is an open source deep learning framework for python. It can run on top of TensorFlow, Microsoft CNTK or Theano. \n",
    "It is very simple to understand and use, and suitable for fast experimentation. Keras models can be run both on CPU as well as GPU.\n",
    "\n",
    "It is a high-level neural networks API which allows for easy and fast prototyping.\n",
    "Keras wraps the efficient numerical computation libraries Theano and TensorFlow and allows you to define and train neural network models in just a few lines of code."
   ]
  },
  {
   "cell_type": "markdown",
   "id": "c85cc48c",
   "metadata": {},
   "source": [
    "#### Installing Keras"
   ]
  },
  {
   "attachments": {
    "image-2.png": {
     "image/png": "[encoded data removed]"
    }
   },
   "cell_type": "markdown",
   "id": "7da91c89",
   "metadata": {},
   "source": [
    "![image-2.png](attachment:image-2.png)"
   ]
  },
  {
   "cell_type": "markdown",
   "id": "e6559de2",
   "metadata": {},
   "source": [
    "#### Importing Keras"
   ]
  },
  {
   "cell_type": "code",
   "execution_count": 17,
   "id": "c1675a5c",
   "metadata": {},
   "outputs": [],
   "source": [
    "import keras #Importing the Keras"
   ]
  },
  {
   "cell_type": "markdown",
   "id": "21d8e212",
   "metadata": {},
   "source": [
    "#### Basic Statements using Keras"
   ]
  },
  {
   "cell_type": "code",
   "execution_count": 18,
   "id": "bf9318d4",
   "metadata": {},
   "outputs": [],
   "source": [
    "from keras.datasets import mnist\n",
    " \n",
    "# Load pre-shuffled MNIST data into train and test sets\n",
    "(X_train, y_train), (X_test, y_test) = mnist.load_data()"
   ]
  },
  {
   "cell_type": "code",
   "execution_count": 19,
   "id": "e85f053a",
   "metadata": {},
   "outputs": [
    {
     "name": "stdout",
     "output_type": "stream",
     "text": [
      "(60000, 28, 28)\n"
     ]
    }
   ],
   "source": [
    "print (X_train.shape)"
   ]
  },
  {
   "cell_type": "code",
   "execution_count": 20,
   "id": "5d7176fb",
   "metadata": {},
   "outputs": [
    {
     "data": {
      "text/plain": [
       "<matplotlib.image.AxesImage at 0x2b07eda8790>"
      ]
     },
     "execution_count": 20,
     "metadata": {},
     "output_type": "execute_result"
    },
    {
     "data": {
      "image/png": "[encoded data removed]",
      "text/plain": [
       "<Figure size 432x288 with 1 Axes>"
      ]
     },
     "metadata": {
      "needs_background": "light"
     },
     "output_type": "display_data"
    }
   ],
   "source": [
    "#Plotting the first sample of X_train\n",
    "from matplotlib import pyplot as plt\n",
    "plt.imshow(X_train[0])"
   ]
  },
  {
   "cell_type": "markdown",
   "id": "9f509664",
   "metadata": {},
   "source": [
    "### Tensorflow"
   ]
  },
  {
   "cell_type": "markdown",
   "id": "aa4c255a",
   "metadata": {},
   "source": [
    "#### About the Library\n",
    "TensorFlow is an open source machine learning framework and is very popular for the  high performance numerical computation.\n",
    "It is used for implementing machine learning and deep learning applications and involves defining and running computations involving tensors.\n",
    "\n",
    "It can train and run deep neural networks that can be used to develop several AI applications and what makes tensor popular is that the computational graph concept, automatic differentiation, and the adaptability of the Tensorflow python API structure."
   ]
  },
  {
   "cell_type": "markdown",
   "id": "97ddfb8f",
   "metadata": {},
   "source": [
    "#### Installing Tensorflow"
   ]
  },
  {
   "attachments": {
    "image.png": {
     "image/png": "[encoded data removed]"
    }
   },
   "cell_type": "markdown",
   "id": "cfe1b476",
   "metadata": {},
   "source": [
    "![image.png](attachment:image.png)"
   ]
  },
  {
   "cell_type": "markdown",
   "id": "ee318c65",
   "metadata": {},
   "source": [
    "#### Importing Tensorflow\n"
   ]
  },
  {
   "cell_type": "code",
   "execution_count": 21,
   "id": "2b2ee8bd",
   "metadata": {},
   "outputs": [],
   "source": [
    "import tensorflow #Importing the Tensorflow"
   ]
  },
  {
   "cell_type": "markdown",
   "id": "afcc3e72",
   "metadata": {},
   "source": [
    "#### Basic Statements using Tensorflow"
   ]
  },
  {
   "cell_type": "code",
   "execution_count": 22,
   "id": "79ab5153",
   "metadata": {},
   "outputs": [
    {
     "name": "stdout",
     "output_type": "stream",
     "text": [
      "tf.Tensor([ 5 12 21 32], shape=(4,), dtype=int32)\n"
     ]
    }
   ],
   "source": [
    "# Import tensorflow\n",
    "import tensorflow as tf\n",
    "\n",
    "# Initialize two constants\n",
    "x1 = tf.constant([1,2,3,4])\n",
    "x2 = tf.constant([5,6,7,8])\n",
    "\n",
    "# Multiply\n",
    "result = tf.multiply(x1, x2)\n",
    "\n",
    "# Print the result\n",
    "print(result)"
   ]
  },
  {
   "cell_type": "markdown",
   "id": "eeac8419",
   "metadata": {},
   "source": [
    "## Conclusion/Results"
   ]
  },
  {
   "cell_type": "markdown",
   "id": "f974c6ed",
   "metadata": {},
   "source": [
    "In the lab **Installation of Libraries**, we have tried to understand the uses and working of few libraries that are essentail for Data Analysis as well as Machine Learning and in addition we could understood how to install these libraries if the system lacks it.\n",
    "\n",
    "By Executing the basic statements we could learn the operations of libraries and based on the observations, we are able to undestand the situation where we should use those libraries."
   ]
  }
 ],
 "metadata": {
  "kernelspec": {
   "display_name": "Python 3",
   "language": "python",
   "name": "python3"
  },
  "language_info": {
   "codemirror_mode": {
    "name": "ipython",
    "version": 3
   },
   "file_extension": ".py",
   "mimetype": "text/x-python",
   "name": "python",
   "nbconvert_exporter": "python",
   "pygments_lexer": "ipython3",
   "version": "3.8.8"
  }
 },
 "nbformat": 4,
 "nbformat_minor": 5
}
